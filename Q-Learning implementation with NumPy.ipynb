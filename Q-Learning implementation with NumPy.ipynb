{
 "cells": [
  {
   "cell_type": "markdown",
   "metadata": {},
   "source": [
    "# Q-Learning implementation with NumPy"
   ]
  },
  {
   "cell_type": "markdown",
   "metadata": {},
   "source": [
    "## Import all the necessary liabraries"
   ]
  },
  {
   "cell_type": "code",
   "execution_count": 1,
   "metadata": {},
   "outputs": [],
   "source": [
    "import numpy as np"
   ]
  },
  {
   "cell_type": "markdown",
   "metadata": {},
   "source": [
    "## Set the discount factor(Gamma) and the learning rate(alpha) respectively"
   ]
  },
  {
   "cell_type": "code",
   "execution_count": 2,
   "metadata": {},
   "outputs": [],
   "source": [
    "gamma = 0.75"
   ]
  },
  {
   "cell_type": "code",
   "execution_count": 3,
   "metadata": {},
   "outputs": [],
   "source": [
    "alpha = 0.9"
   ]
  },
  {
   "cell_type": "markdown",
   "metadata": {},
   "source": [
    "## Define the States: Map the various locations (L1 TO L9) into numeric states (0 to 8)"
   ]
  },
  {
   "cell_type": "code",
   "execution_count": 4,
   "metadata": {},
   "outputs": [],
   "source": [
    "locationToState = {\n",
    "    'L1':0,\n",
    "    'L2':1,\n",
    "    'L3':2,\n",
    "    'L4':3,\n",
    "    'L5':4,\n",
    "    'L6':5,\n",
    "    'L7':6,\n",
    "    'L8':7,\n",
    "    'L9':8 \n",
    "}"
   ]
  },
  {
   "cell_type": "markdown",
   "metadata": {},
   "source": [
    "## Define the actions (the transitions between states s to s')"
   ]
  },
  {
   "cell_type": "code",
   "execution_count": 5,
   "metadata": {},
   "outputs": [],
   "source": [
    "actions = [0,1,2,3,4,5,6,7,8]"
   ]
  },
  {
   "cell_type": "markdown",
   "metadata": {},
   "source": [
    "## Define the Rewards table"
   ]
  },
  {
   "cell_type": "code",
   "execution_count": 6,
   "metadata": {},
   "outputs": [],
   "source": [
    "rewards = np.array([\n",
    "    [0,1,0,0,0,0,0,0,0],\n",
    "    [1,0,1,0,0,0,0,0,0],\n",
    "    [0,1,0,0,0,1,0,0,0],\n",
    "    [0,0,0,0,0,0,1,0,0],\n",
    "    [0,1,0,0,0,0,0,1,0],\n",
    "    [0,0,1,0,0,0,0,0,0],\n",
    "    [0,0,0,1,0,0,0,1,0],\n",
    "    [0,0,0,0,1 ,0,1,0,1],\n",
    "    [0,0,0,0,0,0,0,1,0]])"
   ]
  },
  {
   "cell_type": "markdown",
   "metadata": {},
   "source": [
    "## Map indicies to locations"
   ]
  },
  {
   "cell_type": "code",
   "execution_count": 7,
   "metadata": {},
   "outputs": [],
   "source": [
    "stateToLocation = {state: location for location, state in locationToState.items()}"
   ]
  },
  {
   "cell_type": "markdown",
   "metadata": {},
   "source": [
    "## Define a function to get the optimum path from a start location to a destination"
   ]
  },
  {
   "cell_type": "code",
   "execution_count": 8,
   "metadata": {},
   "outputs": [],
   "source": [
    "def get_optimal_route(startLocation, destination):\n",
    "    # Copy the rewards table\n",
    "    newRewards = np.copy(rewards)\n",
    "    endState = locationToState[destination]\n",
    "    newRewards[endState, endState] = 999\n",
    "\n",
    "    # Initialize Q-table with proper dimensions\n",
    "    Q = np.zeros(newRewards.shape)\n",
    "\n",
    "    # Q-learning process\n",
    "    for _ in range(1000):\n",
    "        currentState = np.random.randint(0, len(locationToState))\n",
    "        playableActions = [action for action in actions if newRewards[currentState, action] > 0]\n",
    "        nextState = np.random.choice(playableActions)\n",
    "\n",
    "        # Calculate the temporal difference (TD)\n",
    "        TD = newRewards[currentState, nextState] + gamma * np.max(Q[nextState]) - Q[currentState, nextState]\n",
    "\n",
    "        # Update the Q-value\n",
    "        Q[currentState, nextState] += alpha * TD\n",
    "\n",
    "    # Compute the optimal route\n",
    "    route = [startLocation]\n",
    "    nextLocation = startLocation\n",
    "\n",
    "    while nextLocation != destination:\n",
    "        currentState = locationToState[nextLocation]\n",
    "        nextState = np.argmax(Q[currentState])\n",
    "        nextLocation = stateToLocation[nextState]\n",
    "        route.append(nextLocation)\n",
    "\n",
    "    return route"
   ]
  },
  {
   "cell_type": "markdown",
   "metadata": {},
   "source": [
    "## Test the above function with Locations "
   ]
  },
  {
   "cell_type": "code",
   "execution_count": 9,
   "metadata": {},
   "outputs": [
    {
     "name": "stdout",
     "output_type": "stream",
     "text": [
      "Optimal Route: ['L9', 'L8', 'L5', 'L2', 'L1']\n"
     ]
    }
   ],
   "source": [
    "route = get_optimal_route('L9', 'L1')\n",
    "print(f\"Optimal Route: {route}\")\n"
   ]
  },
  {
   "cell_type": "code",
   "execution_count": 10,
   "metadata": {},
   "outputs": [
    {
     "name": "stdout",
     "output_type": "stream",
     "text": [
      "Optimal Route: ['L7', 'L8', 'L5', 'L2', 'L1']\n"
     ]
    }
   ],
   "source": [
    "route = get_optimal_route('L7', 'L1')\n",
    "print(f\"Optimal Route: {route}\")"
   ]
  },
  {
   "cell_type": "code",
   "execution_count": 11,
   "metadata": {},
   "outputs": [
    {
     "name": "stdout",
     "output_type": "stream",
     "text": [
      "Optimal Route: ['L7', 'L8', 'L5', 'L2', 'L3']\n"
     ]
    }
   ],
   "source": [
    "route = get_optimal_route('L7', 'L3')\n",
    "print(f\"Optimal Route: {route}\")"
   ]
  }
 ],
 "metadata": {
  "kernelspec": {
   "display_name": "Python 3",
   "language": "python",
   "name": "python3"
  },
  "language_info": {
   "codemirror_mode": {
    "name": "ipython",
    "version": 3
   },
   "file_extension": ".py",
   "mimetype": "text/x-python",
   "name": "python",
   "nbconvert_exporter": "python",
   "pygments_lexer": "ipython3",
   "version": "3.12.3"
  }
 },
 "nbformat": 4,
 "nbformat_minor": 2
}
