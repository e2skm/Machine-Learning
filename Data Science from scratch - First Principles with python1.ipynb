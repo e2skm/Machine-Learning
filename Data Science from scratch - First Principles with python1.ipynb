{
 "cells": [
  {
   "cell_type": "markdown",
   "metadata": {},
   "source": [
    "# Data Science from scratch - First Principles with python1 "
   ]
  },
  {
   "cell_type": "markdown",
   "metadata": {},
   "source": [
    "## First day at work as a data scientist"
   ]
  },
  {
   "cell_type": "code",
   "execution_count": 338,
   "metadata": {},
   "outputs": [],
   "source": [
    "users = [\n",
    "    {'id':0,'name':'Itumeleng'},\n",
    "    {'id':1,'name':'Lebogang'},\n",
    "    {'id':2,'name':'Tebogo'},\n",
    "    {'id':3,'name':'Ditebogo'},\n",
    "    {'id':4,'name':'Nthabiseng'},\n",
    "    {'id':5,'name':'Lancey'},\n",
    "    {'id':6,'name':'Jerry'},\n",
    "    {'id':7,'name':'Salome'},\n",
    "    {'id':8,'name':'Stacey'},\n",
    "    {'id':9,'name':'David'}\n",
    "]"
   ]
  },
  {
   "cell_type": "markdown",
   "metadata": {},
   "source": [
    "### Friendship pairs "
   ]
  },
  {
   "cell_type": "code",
   "execution_count": 339,
   "metadata": {},
   "outputs": [],
   "source": [
    "friendshipPairs = [(0, 1), (0, 2), (1, 2), (1, 3), (2, 3), (3, 4),(4, 5), (5, 6), (5, 7), (6, 8), (7, 8), (8, 9)]\n"
   ]
  },
  {
   "cell_type": "markdown",
   "metadata": {},
   "source": [
    "### Create a dict to store every user's friend"
   ]
  },
  {
   "cell_type": "code",
   "execution_count": 340,
   "metadata": {},
   "outputs": [
    {
     "data": {
      "text/plain": [
       "{0: [], 1: [], 2: [], 3: [], 4: [], 5: [], 6: [], 7: [], 8: [], 9: []}"
      ]
     },
     "execution_count": 340,
     "metadata": {},
     "output_type": "execute_result"
    }
   ],
   "source": [
    "friendships = {user['id']: [] for user in users}\n",
    "friendships"
   ]
  },
  {
   "cell_type": "markdown",
   "metadata": {},
   "source": [
    "### Populate the friendships dict"
   ]
  },
  {
   "cell_type": "code",
   "execution_count": 341,
   "metadata": {},
   "outputs": [
    {
     "data": {
      "text/plain": [
       "{0: [1, 2],\n",
       " 1: [0, 2, 3],\n",
       " 2: [0, 1, 3],\n",
       " 3: [1, 2, 4],\n",
       " 4: [3, 5],\n",
       " 5: [4, 6, 7],\n",
       " 6: [5, 8],\n",
       " 7: [5, 8],\n",
       " 8: [6, 7, 9],\n",
       " 9: [8]}"
      ]
     },
     "execution_count": 341,
     "metadata": {},
     "output_type": "execute_result"
    }
   ],
   "source": [
    "for i,j in friendshipPairs:\n",
    "    friendships[i].append(j)\n",
    "    friendships[j].append(i)\n",
    "friendships"
   ]
  },
  {
   "cell_type": "markdown",
   "metadata": {},
   "source": [
    "### Function to get the number of friends each user has "
   ]
  },
  {
   "cell_type": "code",
   "execution_count": 342,
   "metadata": {},
   "outputs": [],
   "source": [
    "def number_of_friends(user):\n",
    "    userId = user['id']\n",
    "    friendsIds = friendships[userId]\n",
    "    return len(friendsIds)\n"
   ]
  },
  {
   "cell_type": "markdown",
   "metadata": {},
   "source": [
    "### Finding how many friendships exist"
   ]
  },
  {
   "cell_type": "code",
   "execution_count": 343,
   "metadata": {},
   "outputs": [
    {
     "name": "stdout",
     "output_type": "stream",
     "text": [
      "The total number of friendships is: 24\n"
     ]
    }
   ],
   "source": [
    "totalConnections = sum(number_of_friends(user) for user in users)\n",
    "print(f'The total number of friendships is: {totalConnections}')"
   ]
  },
  {
   "cell_type": "markdown",
   "metadata": {},
   "source": [
    "### Finding how many users exist"
   ]
  },
  {
   "cell_type": "code",
   "execution_count": 344,
   "metadata": {},
   "outputs": [
    {
     "name": "stdout",
     "output_type": "stream",
     "text": [
      "The total number of users : 10\n"
     ]
    }
   ],
   "source": [
    "numberOfUsers = len(users)\n",
    "print(f'The total number of users : {numberOfUsers}')"
   ]
  },
  {
   "cell_type": "markdown",
   "metadata": {},
   "source": [
    "### Finding the average number of friends each user has on average"
   ]
  },
  {
   "cell_type": "code",
   "execution_count": 345,
   "metadata": {},
   "outputs": [
    {
     "name": "stdout",
     "output_type": "stream",
     "text": [
      "The average user has about: 2.4 friends\n"
     ]
    }
   ],
   "source": [
    "averageNumFriends = totalConnections / numberOfUsers\n",
    "print(f'The average user has about: {averageNumFriends} friends')"
   ]
  },
  {
   "cell_type": "markdown",
   "metadata": {},
   "source": [
    "### View the number of friends each user has"
   ]
  },
  {
   "cell_type": "code",
   "execution_count": 346,
   "metadata": {},
   "outputs": [
    {
     "data": {
      "text/plain": [
       "[('Itumeleng', 2),\n",
       " ('Lebogang', 3),\n",
       " ('Tebogo', 3),\n",
       " ('Ditebogo', 3),\n",
       " ('Nthabiseng', 2),\n",
       " ('Lancey', 3),\n",
       " ('Jerry', 2),\n",
       " ('Salome', 2),\n",
       " ('Stacey', 3),\n",
       " ('David', 1)]"
      ]
     },
     "execution_count": 346,
     "metadata": {},
     "output_type": "execute_result"
    }
   ],
   "source": [
    "numberOfFriendPerUser = [(user['name'], number_of_friends(user))for user in users]\n",
    "numberOfFriendPerUser"
   ]
  },
  {
   "cell_type": "markdown",
   "metadata": {},
   "source": [
    "### Sort from highest to lowest"
   ]
  },
  {
   "cell_type": "code",
   "execution_count": 347,
   "metadata": {},
   "outputs": [
    {
     "data": {
      "text/plain": [
       "[('Lebogang', 3),\n",
       " ('Tebogo', 3),\n",
       " ('Ditebogo', 3),\n",
       " ('Lancey', 3),\n",
       " ('Stacey', 3),\n",
       " ('Itumeleng', 2),\n",
       " ('Nthabiseng', 2),\n",
       " ('Jerry', 2),\n",
       " ('Salome', 2),\n",
       " ('David', 1)]"
      ]
     },
     "execution_count": 347,
     "metadata": {},
     "output_type": "execute_result"
    }
   ],
   "source": [
    "numberOfFriendPerUser.sort(key=lambda idAndFriends: idAndFriends[1],reverse=True)\n",
    "numberOfFriendPerUser"
   ]
  },
  {
   "cell_type": "markdown",
   "metadata": {},
   "source": [
    "### Finding Friends of friends method 1"
   ]
  },
  {
   "cell_type": "code",
   "execution_count": 348,
   "metadata": {},
   "outputs": [],
   "source": [
    "def foaf(user):\n",
    "    return [foafId for friendsId in friendships[user['id']] for foafId in friendships[friendsId]]"
   ]
  },
  {
   "cell_type": "code",
   "execution_count": 349,
   "metadata": {},
   "outputs": [
    {
     "data": {
      "text/plain": [
       "[0, 2, 3, 0, 1, 3]"
      ]
     },
     "execution_count": 349,
     "metadata": {},
     "output_type": "execute_result"
    }
   ],
   "source": [
    "foaf(users[0])"
   ]
  },
  {
   "cell_type": "code",
   "execution_count": 350,
   "metadata": {},
   "outputs": [
    {
     "data": {
      "text/plain": [
       "[1, 2, 4, 4, 6, 7]"
      ]
     },
     "execution_count": 350,
     "metadata": {},
     "output_type": "execute_result"
    }
   ],
   "source": [
    "foaf(users[4])"
   ]
  },
  {
   "cell_type": "markdown",
   "metadata": {},
   "source": [
    "### Finding Friends of friends method 2"
   ]
  },
  {
   "cell_type": "code",
   "execution_count": 351,
   "metadata": {},
   "outputs": [],
   "source": [
    "from collections import Counter"
   ]
  },
  {
   "cell_type": "code",
   "execution_count": 352,
   "metadata": {},
   "outputs": [],
   "source": [
    "def foaf2(user):\n",
    "    userId = user['id']\n",
    "    return Counter (foafId for friendsId in friendships[user['id']] for foafId in friendships[friendsId] if foafId != userId and foafId not in friendships[userId])"
   ]
  },
  {
   "cell_type": "code",
   "execution_count": 353,
   "metadata": {},
   "outputs": [
    {
     "data": {
      "text/plain": [
       "Counter({3: 2})"
      ]
     },
     "execution_count": 353,
     "metadata": {},
     "output_type": "execute_result"
    }
   ],
   "source": [
    "foaf2(users[0])"
   ]
  },
  {
   "cell_type": "code",
   "execution_count": 354,
   "metadata": {},
   "outputs": [
    {
     "data": {
      "text/plain": [
       "Counter({1: 1, 2: 1, 6: 1, 7: 1})"
      ]
     },
     "execution_count": 354,
     "metadata": {},
     "output_type": "execute_result"
    }
   ],
   "source": [
    "foaf2(users[4])"
   ]
  },
  {
   "cell_type": "markdown",
   "metadata": {},
   "source": [
    "### Adding users' interests"
   ]
  },
  {
   "cell_type": "code",
   "execution_count": 355,
   "metadata": {},
   "outputs": [],
   "source": [
    "interests = [\n",
    "(0, \"Hadoop\"), (0, \"Big Data\"), (0, \"HBase\"), (0, \"Java\"),\n",
    "(0, \"Spark\"), (0, \"Storm\"), (0, \"Cassandra\"),\n",
    "(1, \"NoSQL\"), (1, \"MongoDB\"), (1, \"Cassandra\"), (1, \"HBase\"),\n",
    "(1, \"Postgres\"), (2, \"Python\"), (2, \"scikit-learn\"), (2, \"scipy\"),\n",
    "(2, \"numpy\"), (2, \"statsmodels\"), (2, \"pandas\"), (3, \"R\"), (3, \"Python\"),\n",
    "(3, \"statistics\"), (3, \"regression\"), (3, \"probability\"),\n",
    "(4, \"machine learning\"), (4, \"regression\"), (4, \"decision trees\"),\n",
    "(4, \"libsvm\"), (5, \"Python\"), (5, \"R\"), (5, \"Java\"), (5, \"C++\"),\n",
    "(5, \"Haskell\"), (5, \"programming languages\"), (6, \"statistics\"),\n",
    "(6, \"probability\"), (6, \"mathematics\"), (6, \"theory\"),\n",
    "(7, \"machine learning\"), (7, \"scikit-learn\"), (7, \"Mahout\"),\n",
    "(7, \"neural networks\"), (8, \"neural networks\"), (8, \"deep learning\"),\n",
    "(8, \"Big Data\"), (8, \"artificial intelligence\"), (9, \"Hadoop\"),\n",
    "(9, \"Java\"), (9, \"MapReduce\"), (9, \"Big Data\")\n",
    "]"
   ]
  },
  {
   "cell_type": "markdown",
   "metadata": {},
   "source": [
    "### Function to find user ids using a certain interest"
   ]
  },
  {
   "cell_type": "code",
   "execution_count": 356,
   "metadata": {},
   "outputs": [],
   "source": [
    "def users_who_like(targetInterest):\n",
    "    return [userId for userId, userInterest in interests if userInterest == targetInterest]"
   ]
  },
  {
   "cell_type": "code",
   "execution_count": 357,
   "metadata": {},
   "outputs": [
    {
     "name": "stdout",
     "output_type": "stream",
     "text": [
      "The following are users who like Python: [2, 3, 5]\n"
     ]
    }
   ],
   "source": [
    "print(f'The following are users who like Python: {users_who_like('Python')}')"
   ]
  },
  {
   "cell_type": "code",
   "execution_count": 358,
   "metadata": {},
   "outputs": [
    {
     "name": "stdout",
     "output_type": "stream",
     "text": [
      "The following are users who like Big Data: [0, 8, 9]\n"
     ]
    }
   ],
   "source": [
    "\n",
    "print(f'The following are users who like Big Data: {users_who_like('Big Data')}')"
   ]
  },
  {
   "cell_type": "markdown",
   "metadata": {},
   "source": [
    "### Build a dict (to enable quick searching)  with interest as an index, to find all users with a common interest"
   ]
  },
  {
   "cell_type": "code",
   "execution_count": 359,
   "metadata": {},
   "outputs": [],
   "source": [
    "from collections import defaultdict\n",
    "userIdsByInterest = defaultdict(list)\n",
    "for userId, interest in interests:\n",
    "    userIdsByInterest[interest].append(userId)"
   ]
  },
  {
   "cell_type": "code",
   "execution_count": 360,
   "metadata": {},
   "outputs": [
    {
     "name": "stdout",
     "output_type": "stream",
     "text": [
      "The following are users who are interested in regression: [3, 4]\n"
     ]
    }
   ],
   "source": [
    "print(f'The following are users who are interested in regression: {userIdsByInterest['regression']}')"
   ]
  },
  {
   "cell_type": "code",
   "execution_count": 361,
   "metadata": {},
   "outputs": [
    {
     "name": "stdout",
     "output_type": "stream",
     "text": [
      "The following are users who are interested in statistics: [3, 6]\n"
     ]
    }
   ],
   "source": [
    "print(f'The following are users who are interested in statistics: {userIdsByInterest['statistics']}')"
   ]
  },
  {
   "cell_type": "markdown",
   "metadata": {},
   "source": [
    "### Build a dict (to enable quick searching) with user id as an index, to find a user's interests"
   ]
  },
  {
   "cell_type": "code",
   "execution_count": 362,
   "metadata": {},
   "outputs": [],
   "source": [
    "interestByUserId = defaultdict(list)\n",
    "for userId, interest in interests:\n",
    "    interestByUserId[userId].append(interest)    "
   ]
  },
  {
   "cell_type": "code",
   "execution_count": 363,
   "metadata": {},
   "outputs": [
    {
     "name": "stdout",
     "output_type": "stream",
     "text": [
      "The following are interests of user 0: ['Hadoop', 'Big Data', 'HBase', 'Java', 'Spark', 'Storm', 'Cassandra']\n"
     ]
    }
   ],
   "source": [
    "print(f'The following are interests of user 0: {interestByUserId[0]}')"
   ]
  },
  {
   "cell_type": "code",
   "execution_count": 364,
   "metadata": {},
   "outputs": [
    {
     "name": "stdout",
     "output_type": "stream",
     "text": [
      "The following are interests of user 7: ['machine learning', 'scikit-learn', 'Mahout', 'neural networks']\n"
     ]
    }
   ],
   "source": [
    "print(f'The following are interests of user 7: {interestByUserId[7]}')"
   ]
  },
  {
   "cell_type": "markdown",
   "metadata": {},
   "source": [
    "### Function to find user(s) with the most interests in common "
   ]
  },
  {
   "cell_type": "code",
   "execution_count": 365,
   "metadata": {},
   "outputs": [],
   "source": [
    "def common_interests_with(user):\n",
    "    return Counter(interestedUserId for interest in interestByUserId[user['id']] for interestedUserId in userIdsByInterest[interest] if interestedUserId != user['id'])"
   ]
  },
  {
   "cell_type": "code",
   "execution_count": 366,
   "metadata": {},
   "outputs": [
    {
     "name": "stdout",
     "output_type": "stream",
     "text": [
      "User 3 shares the common interests with: Counter({5: 2, 6: 2, 2: 1, 4: 1})\n"
     ]
    }
   ],
   "source": [
    "print(f'User 3 shares the common interests with: {common_interests_with(users[3])}')"
   ]
  },
  {
   "cell_type": "code",
   "execution_count": 367,
   "metadata": {},
   "outputs": [
    {
     "name": "stdout",
     "output_type": "stream",
     "text": [
      "User 9 shares the common interests with: Counter({0: 3, 5: 1, 8: 1})\n"
     ]
    }
   ],
   "source": [
    "print(f'User 9 shares the common interests with: {common_interests_with(users[9])}')\n"
   ]
  },
  {
   "cell_type": "markdown",
   "metadata": {},
   "source": [
    "### Add data about users' salaries and number of years as data scientists"
   ]
  },
  {
   "cell_type": "code",
   "execution_count": 368,
   "metadata": {},
   "outputs": [],
   "source": [
    "salariesAndTenures = [(83000, 8.7), (88000, 8.1), (48000, 0.7), (76000, 6), (69000, 6.5), (76000, 7.5), (60000, 2.5), (83000, 10), (48000, 1.9), (63000, 4.2)]"
   ]
  },
  {
   "cell_type": "code",
   "execution_count": 369,
   "metadata": {},
   "outputs": [],
   "source": [
    "tenures = [ 8.7, 8.1, 0.7, 6, 6.5,  7.5, 2.5, 10, 1.9, 4.2]"
   ]
  },
  {
   "cell_type": "code",
   "execution_count": 370,
   "metadata": {},
   "outputs": [],
   "source": [
    "salaries = [83000, 88000, 48000, 76000, 69000, 76000, 60000, 83000, 48000, 63000]"
   ]
  },
  {
   "cell_type": "code",
   "execution_count": 371,
   "metadata": {},
   "outputs": [],
   "source": [
    "import matplotlib.pyplot  as plt\n",
    "import seaborn as sns"
   ]
  },
  {
   "cell_type": "code",
   "execution_count": 372,
   "metadata": {},
   "outputs": [
    {
     "data": {
      "image/png": "[encoded data removed]",
      "text/plain": [
       "<Figure size 1200x800 with 1 Axes>"
      ]
     },
     "metadata": {},
     "output_type": "display_data"
    }
   ],
   "source": [
    "plt.figure(figsize=(12,8))\n",
    "sns.scatterplot(x=tenures, y=salaries)\n",
    "plt.title('Salary (in ZAR) by Experience (in years)')\n",
    "plt.xlabel('Tenure')\n",
    "plt.ylabel('Salary')\n",
    "plt.show()"
   ]
  },
  {
   "cell_type": "markdown",
   "metadata": {},
   "source": [
    "### Check the average salary per tenure"
   ]
  },
  {
   "cell_type": "code",
   "execution_count": 373,
   "metadata": {},
   "outputs": [
    {
     "data": {
      "text/plain": [
       "defaultdict(list,\n",
       "            {8.7: [83000],\n",
       "             8.1: [88000],\n",
       "             0.7: [48000],\n",
       "             6: [76000],\n",
       "             6.5: [69000],\n",
       "             7.5: [76000],\n",
       "             2.5: [60000],\n",
       "             10: [83000],\n",
       "             1.9: [48000],\n",
       "             4.2: [63000]})"
      ]
     },
     "execution_count": 373,
     "metadata": {},
     "output_type": "execute_result"
    }
   ],
   "source": [
    "salaryByTenure = defaultdict(list)\n",
    "for salary, tenure in salariesAndTenures:\n",
    "    salaryByTenure[tenure].append(salary)\n",
    "salaryByTenure    "
   ]
  },
  {
   "cell_type": "code",
   "execution_count": 374,
   "metadata": {},
   "outputs": [
    {
     "data": {
      "text/plain": [
       "{8.7: 83000.0,\n",
       " 8.1: 88000.0,\n",
       " 0.7: 48000.0,\n",
       " 6: 76000.0,\n",
       " 6.5: 69000.0,\n",
       " 7.5: 76000.0,\n",
       " 2.5: 60000.0,\n",
       " 10: 83000.0,\n",
       " 1.9: 48000.0,\n",
       " 4.2: 63000.0}"
      ]
     },
     "execution_count": 374,
     "metadata": {},
     "output_type": "execute_result"
    }
   ],
   "source": [
    "averageSalaryByTenure = {tenure: sum(salaries) / len(salaries) for tenure, salaries in salaryByTenure.items()}   \n",
    "averageSalaryByTenure"
   ]
  },
  {
   "cell_type": "markdown",
   "metadata": {},
   "source": [
    "### Function to group tenures for a more helpful result "
   ]
  },
  {
   "cell_type": "code",
   "execution_count": 375,
   "metadata": {},
   "outputs": [],
   "source": [
    "def bucket_tenures(tenure):\n",
    "    if tenure < 2:\n",
    "        return 'Less than two.'\n",
    "    elif tenure < 5:\n",
    "        return 'Between two and five'\n",
    "    else:\n",
    "        return 'Greater than five'   "
   ]
  },
  {
   "cell_type": "markdown",
   "metadata": {},
   "source": [
    "### Group salary by tenure"
   ]
  },
  {
   "cell_type": "code",
   "execution_count": 376,
   "metadata": {},
   "outputs": [
    {
     "data": {
      "text/plain": [
       "defaultdict(list,\n",
       "            {'Greater than five': [83000, 88000, 76000, 69000, 76000, 83000],\n",
       "             'Less than two.': [48000, 48000],\n",
       "             'Between two and five': [60000, 63000]})"
      ]
     },
     "execution_count": 376,
     "metadata": {},
     "output_type": "execute_result"
    }
   ],
   "source": [
    "salaryByTenureBucket = defaultdict(list)\n",
    "for salary, tenure in salariesAndTenures:\n",
    "    bucket = bucket_tenures(tenure)\n",
    "    salaryByTenureBucket[bucket].append(salary)  \n",
    "salaryByTenureBucket  "
   ]
  },
  {
   "cell_type": "code",
   "execution_count": 377,
   "metadata": {},
   "outputs": [
    {
     "data": {
      "text/plain": [
       "{'Greater than five': 79166.66666666667,\n",
       " 'Less than two.': 48000.0,\n",
       " 'Between two and five': 61500.0}"
      ]
     },
     "execution_count": 377,
     "metadata": {},
     "output_type": "execute_result"
    }
   ],
   "source": [
    "averageSalaryByTenureBucket ={tenureBucket: sum(salaries) / len(salaries) for tenureBucket, salaries in salaryByTenureBucket.items()}\n",
    "averageSalaryByTenureBucket"
   ]
  },
  {
   "cell_type": "code",
   "execution_count": 378,
   "metadata": {},
   "outputs": [
    {
     "data": {
      "text/plain": [
       "[(0.7, 'paid'),\n",
       " (1.9, 'unpaid'),\n",
       " (2.5, 'paid'),\n",
       " (4.2, 'unpaid'),\n",
       " (6.0, 'unpaid'),\n",
       " (6.5, 'unpaid'),\n",
       " (7.5, 'unpaid'),\n",
       " (8.1, 'unpaid'),\n",
       " (8.7, 'paid'),\n",
       " (10.0, 'paid')]"
      ]
     },
     "execution_count": 378,
     "metadata": {},
     "output_type": "execute_result"
    }
   ],
   "source": [
    "paidOrNot = [(0.7, 'paid'), (1.9, 'unpaid'), (2.5, 'paid'), (4.2, 'unpaid'), (6.0, 'unpaid'), (6.5, 'unpaid'), (7.5, 'unpaid'), (8.1, 'unpaid'), (8.7, 'paid'), (10.0, 'paid')]\n",
    "paidOrNot"
   ]
  },
  {
   "cell_type": "markdown",
   "metadata": {},
   "source": [
    "### Function to predict whether a user paid or not"
   ]
  },
  {
   "cell_type": "code",
   "execution_count": 379,
   "metadata": {},
   "outputs": [],
   "source": [
    "def predict_paid_or_not(yearsExperience):  \n",
    "    if yearsExperience < 3:\n",
    "        return 'Paid'\n",
    "    elif yearsExperience < 8.5:\n",
    "        return 'Unpaid'\n",
    "    else:\n",
    "        return 'Paid'\n",
    "    "
   ]
  },
  {
   "cell_type": "code",
   "execution_count": 380,
   "metadata": {},
   "outputs": [
    {
     "name": "stdout",
     "output_type": "stream",
     "text": [
      "A user with five years experience: Unpaid\n"
     ]
    }
   ],
   "source": [
    "print(f'A user with five years experience: {predict_paid_or_not(5)}')"
   ]
  },
  {
   "cell_type": "markdown",
   "metadata": {},
   "source": [
    "### Find the most interesting topics"
   ]
  },
  {
   "cell_type": "code",
   "execution_count": 381,
   "metadata": {},
   "outputs": [
    {
     "data": {
      "text/plain": [
       "Counter({'big': 3,\n",
       "         'data': 3,\n",
       "         'java': 3,\n",
       "         'python': 3,\n",
       "         'learning': 3,\n",
       "         'hadoop': 2,\n",
       "         'hbase': 2,\n",
       "         'cassandra': 2,\n",
       "         'scikit-learn': 2,\n",
       "         'r': 2,\n",
       "         'statistics': 2,\n",
       "         'regression': 2,\n",
       "         'probability': 2,\n",
       "         'machine': 2,\n",
       "         'neural': 2,\n",
       "         'networks': 2,\n",
       "         'spark': 1,\n",
       "         'storm': 1,\n",
       "         'nosql': 1,\n",
       "         'mongodb': 1,\n",
       "         'postgres': 1,\n",
       "         'scipy': 1,\n",
       "         'numpy': 1,\n",
       "         'statsmodels': 1,\n",
       "         'pandas': 1,\n",
       "         'decision': 1,\n",
       "         'trees': 1,\n",
       "         'libsvm': 1,\n",
       "         'c++': 1,\n",
       "         'haskell': 1,\n",
       "         'programming': 1,\n",
       "         'languages': 1,\n",
       "         'mathematics': 1,\n",
       "         'theory': 1,\n",
       "         'mahout': 1,\n",
       "         'deep': 1,\n",
       "         'artificial': 1,\n",
       "         'intelligence': 1,\n",
       "         'mapreduce': 1})"
      ]
     },
     "execution_count": 381,
     "metadata": {},
     "output_type": "execute_result"
    }
   ],
   "source": [
    "wordAndCounts = Counter(word for user, interest in interests for word in interest.lower().split())\n",
    "wordAndCounts"
   ]
  },
  {
   "cell_type": "markdown",
   "metadata": {},
   "source": [
    "### Since most topics only appear once they aren't really topics of interest "
   ]
  },
  {
   "cell_type": "code",
   "execution_count": 388,
   "metadata": {},
   "outputs": [
    {
     "name": "stdout",
     "output_type": "stream",
     "text": [
      "The interest: \"BIG\" appears 3 times\n",
      "The interest: \"DATA\" appears 3 times\n",
      "The interest: \"JAVA\" appears 3 times\n",
      "The interest: \"PYTHON\" appears 3 times\n",
      "The interest: \"LEARNING\" appears 3 times\n",
      "The interest: \"HADOOP\" appears 2 times\n",
      "The interest: \"HBASE\" appears 2 times\n",
      "The interest: \"CASSANDRA\" appears 2 times\n",
      "The interest: \"SCIKIT-LEARN\" appears 2 times\n",
      "The interest: \"R\" appears 2 times\n",
      "The interest: \"STATISTICS\" appears 2 times\n",
      "The interest: \"REGRESSION\" appears 2 times\n",
      "The interest: \"PROBABILITY\" appears 2 times\n",
      "The interest: \"MACHINE\" appears 2 times\n",
      "The interest: \"NEURAL\" appears 2 times\n",
      "The interest: \"NETWORKS\" appears 2 times\n"
     ]
    }
   ],
   "source": [
    "for word,count in wordAndCounts.most_common():\n",
    "    if count > 1:\n",
    "        print(f'The interest: \"{word.upper()}\" appears {count} times')"
   ]
  }
 ],
 "metadata": {
  "kernelspec": {
   "display_name": "Python 3",
   "language": "python",
   "name": "python3"
  },
  "language_info": {
   "codemirror_mode": {
    "name": "ipython",
    "version": 3
   },
   "file_extension": ".py",
   "mimetype": "text/x-python",
   "name": "python",
   "nbconvert_exporter": "python",
   "pygments_lexer": "ipython3",
   "version": "3.12.3"
  }
 },
 "nbformat": 4,
 "nbformat_minor": 2
}
